{
 "cells": [
  {
   "cell_type": "code",
   "execution_count": 54,
   "metadata": {},
   "outputs": [
    {
     "name": "stdout",
     "output_type": "stream",
     "text": [
      "building model started..\n"
     ]
    }
   ],
   "source": [
    "# -*- coding:utf8 -*-\n",
    "import os\n",
    "import csv\n",
    "import pandas as pd\n",
    "import time\n",
    "import gc\n",
    "path_train = \"~/data/dm/train.csv\"  # 训练文件\n",
    "path_test = \"~/data/dm/test.csv\"  # 测试文件\n",
    "path_test_out = \"model/\"\n",
    "import pandas as pd\n",
    "import numpy as np\n",
    "print('building model started..')\n",
    "from xgboost import XGBRegressor"
   ]
  },
  {
   "cell_type": "code",
   "execution_count": 55,
   "metadata": {},
   "outputs": [
    {
     "name": "stdout",
     "output_type": "stream",
     "text": [
      "length of train_data :  53284\n",
      "operate sub is done\n"
     ]
    },
    {
     "data": {
      "text/html": [
       "<div>\n",
       "<style scoped>\n",
       "    .dataframe tbody tr th:only-of-type {\n",
       "        vertical-align: middle;\n",
       "    }\n",
       "\n",
       "    .dataframe tbody tr th {\n",
       "        vertical-align: top;\n",
       "    }\n",
       "\n",
       "    .dataframe thead th {\n",
       "        text-align: right;\n",
       "    }\n",
       "</style>\n",
       "<table border=\"1\" class=\"dataframe\">\n",
       "  <thead>\n",
       "    <tr style=\"text-align: right;\">\n",
       "      <th></th>\n",
       "      <th>TERMINALNO</th>\n",
       "      <th>TRIP_ID</th>\n",
       "      <th>DIRECTION</th>\n",
       "      <th>HEIGHT</th>\n",
       "      <th>Y</th>\n",
       "    </tr>\n",
       "  </thead>\n",
       "  <tbody>\n",
       "    <tr>\n",
       "      <th>0</th>\n",
       "      <td>0.0</td>\n",
       "      <td>0.0</td>\n",
       "      <td>12.0</td>\n",
       "      <td>0.091431</td>\n",
       "      <td>0.0</td>\n",
       "    </tr>\n",
       "    <tr>\n",
       "      <th>1</th>\n",
       "      <td>0.0</td>\n",
       "      <td>0.0</td>\n",
       "      <td>50.0</td>\n",
       "      <td>5.132202</td>\n",
       "      <td>0.0</td>\n",
       "    </tr>\n",
       "    <tr>\n",
       "      <th>2</th>\n",
       "      <td>0.0</td>\n",
       "      <td>0.0</td>\n",
       "      <td>41.0</td>\n",
       "      <td>3.586426</td>\n",
       "      <td>0.0</td>\n",
       "    </tr>\n",
       "    <tr>\n",
       "      <th>3</th>\n",
       "      <td>0.0</td>\n",
       "      <td>0.0</td>\n",
       "      <td>36.0</td>\n",
       "      <td>1.716187</td>\n",
       "      <td>0.0</td>\n",
       "    </tr>\n",
       "    <tr>\n",
       "      <th>6</th>\n",
       "      <td>0.0</td>\n",
       "      <td>0.0</td>\n",
       "      <td>106.0</td>\n",
       "      <td>13.079101</td>\n",
       "      <td>0.0</td>\n",
       "    </tr>\n",
       "    <tr>\n",
       "      <th>7</th>\n",
       "      <td>0.0</td>\n",
       "      <td>0.0</td>\n",
       "      <td>24.0</td>\n",
       "      <td>25.451294</td>\n",
       "      <td>0.0</td>\n",
       "    </tr>\n",
       "    <tr>\n",
       "      <th>8</th>\n",
       "      <td>0.0</td>\n",
       "      <td>0.0</td>\n",
       "      <td>83.0</td>\n",
       "      <td>21.666260</td>\n",
       "      <td>0.0</td>\n",
       "    </tr>\n",
       "    <tr>\n",
       "      <th>9</th>\n",
       "      <td>0.0</td>\n",
       "      <td>0.0</td>\n",
       "      <td>265.0</td>\n",
       "      <td>33.920410</td>\n",
       "      <td>0.0</td>\n",
       "    </tr>\n",
       "    <tr>\n",
       "      <th>10</th>\n",
       "      <td>0.0</td>\n",
       "      <td>0.0</td>\n",
       "      <td>11.0</td>\n",
       "      <td>6.058960</td>\n",
       "      <td>0.0</td>\n",
       "    </tr>\n",
       "    <tr>\n",
       "      <th>11</th>\n",
       "      <td>0.0</td>\n",
       "      <td>0.0</td>\n",
       "      <td>84.0</td>\n",
       "      <td>4.577759</td>\n",
       "      <td>0.0</td>\n",
       "    </tr>\n",
       "  </tbody>\n",
       "</table>\n",
       "</div>"
      ],
      "text/plain": [
       "    TERMINALNO  TRIP_ID  DIRECTION     HEIGHT    Y\n",
       "0          0.0      0.0       12.0   0.091431  0.0\n",
       "1          0.0      0.0       50.0   5.132202  0.0\n",
       "2          0.0      0.0       41.0   3.586426  0.0\n",
       "3          0.0      0.0       36.0   1.716187  0.0\n",
       "6          0.0      0.0      106.0  13.079101  0.0\n",
       "7          0.0      0.0       24.0  25.451294  0.0\n",
       "8          0.0      0.0       83.0  21.666260  0.0\n",
       "9          0.0      0.0      265.0  33.920410  0.0\n",
       "10         0.0      0.0       11.0   6.058960  0.0\n",
       "11         0.0      0.0       84.0   4.577759  0.0"
      ]
     },
     "execution_count": 55,
     "metadata": {},
     "output_type": "execute_result"
    }
   ],
   "source": [
    "train_data = pd.read_csv(path_train)\n",
    "train_data.head()\n",
    "input_label =[\"TERMINALNO\",\"TRIP_ID\", \"DIRECTION\", \"HEIGHT\"]\n",
    "output_label = ['Y']\n",
    "train_input = train_data[input_label]    \n",
    "train_output = train_data[output_label]\n",
    "\n",
    "datanum = len(train_input)\n",
    "print('length of train_data : ', datanum)\n",
    "\n",
    "train_input1 = train_input.drop(0)\n",
    "\n",
    "train_input1.loc[datanum] = train_input1.loc[1]\n",
    "\n",
    "train_input1 = train_input1.reset_index(drop=True)\n",
    "\n",
    "train_input = train_input1 - train_input\n",
    "\n",
    "print('operate sub is done')\n",
    "train_input = train_input[(train_input.TERMINALNO==0)&(train_input.TRIP_ID==0)]\n",
    "train_input = train_input.abs()\n",
    "\n",
    "train_input['Y'] = train_output['Y']\n",
    "train_input.head(10)"
   ]
  },
  {
   "cell_type": "code",
   "execution_count": 59,
   "metadata": {},
   "outputs": [
    {
     "name": "stdout",
     "output_type": "stream",
     "text": [
      "training data in 0m 0s\n"
     ]
    }
   ],
   "source": [
    "start = time.time()\n",
    "\n",
    "reg = XGBRegressor(max_depth=5,min_child_weigh=5,\n",
    "                    eta=0.025,gamma=0.06,\n",
    "                    subsample=1,learning_rate=0.01, \n",
    "                    n_estimators=40,silent=True, \n",
    "                    n_jobs=-1,objective='reg:linear')\n",
    "reg.fit(train_input[[\"DIRECTION\", \"HEIGHT\"]], train_input[output_label])\n",
    "\n",
    "end = time.time()\n",
    "time_elapsed = end - start\n",
    "print('training data in {:.0f}m {:.0f}s'.format(time_elapsed // 60, time_elapsed % 60))"
   ]
  },
  {
   "cell_type": "code",
   "execution_count": 60,
   "metadata": {},
   "outputs": [],
   "source": [
    "test_data = pd.read_csv(path_test)\n",
    "pre_input = test_data[input_label]\n",
    "\n",
    "start = time.time()  \n",
    "pre_input1 = pre_input.drop(0)\n",
    "\n",
    "pre_input1.loc[datanum] = pre_input1.loc[1]\n",
    "\n",
    "pre_input1 = pre_input1.reset_index(drop=True)\n",
    "\n",
    "pre_input = pre_input1 - pre_input\n",
    "\n",
    "pre_input = pre_input.abs()\n",
    "\n",
    "a = pre_input[(pre_input.TERMINALNO!=0)].index.tolist()\n"
   ]
  },
  {
   "cell_type": "code",
   "execution_count": 61,
   "metadata": {},
   "outputs": [
    {
     "name": "stdout",
     "output_type": "stream",
     "text": [
      "16022\n"
     ]
    }
   ],
   "source": [
    "y_pred = reg.predict(pre_input[[\"DIRECTION\", \"HEIGHT\"]])\n",
    "print(y_pred.size)\n",
    "\n",
    "pre_input['Y']=y_pred\n",
    "with (open(os.path.join(path_test_out, \"test.csv\"), mode=\"w\")) as outer:\n",
    "    writer = csv.writer(outer)\n",
    "    writer.writerow([\"Id\", \"Pred\"])\n",
    "    for i in range(len(a)):\n",
    "        if i==0:\n",
    "            part = pre_input[0:a[i]]           \n",
    "        else:\n",
    "            part = pre_input[a[i-1]:a[i]]\n",
    "        avg = (part[(part.TERMINALNO==0)&(part.TRIP_ID==0)]['Y'].min()\n",
    "            +part[(part.TERMINALNO==0)&(part.TRIP_ID==0)]['Y'].mean())*0.5\n",
    "        writer.writerow([i+1, avg])"
   ]
  },
  {
   "cell_type": "code",
   "execution_count": null,
   "metadata": {},
   "outputs": [],
   "source": []
  }
 ],
 "metadata": {
  "kernelspec": {
   "display_name": "Python 3",
   "language": "python",
   "name": "python3"
  },
  "language_info": {
   "codemirror_mode": {
    "name": "ipython",
    "version": 3
   },
   "file_extension": ".py",
   "mimetype": "text/x-python",
   "name": "python",
   "nbconvert_exporter": "python",
   "pygments_lexer": "ipython3",
   "version": "3.6.4"
  }
 },
 "nbformat": 4,
 "nbformat_minor": 2
}
